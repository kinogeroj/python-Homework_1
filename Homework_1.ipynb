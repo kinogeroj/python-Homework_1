{
 "cells": [
  {
   "cell_type": "markdown",
   "id": "5059983d",
   "metadata": {},
   "source": [
    "## Задание 1.\n",
    "На складе лежат разные фрукты в разном количестве.\n",
    "Нужно написать функцию, которая на вход принимает \n",
    "любое количество названий фруктов и их количество,\n",
    "а возвращает общее количество фруктов на складе."
   ]
  },
  {
   "cell_type": "code",
   "execution_count": 35,
   "id": "d70b34fc",
   "metadata": {},
   "outputs": [
    {
     "name": "stdout",
     "output_type": "stream",
     "text": [
      "На складе сейчас 131 единиц фруктов.\n"
     ]
    }
   ],
   "source": [
    "fruit_name = ['яблоко', 'мандарин', 'апельсин', 'банан', 'ананас']\n",
    "\n",
    "fruit_num = [50, 30, 29, 12, 10]\n",
    "\n",
    "storage_dict = {key: value for key, value in zip(fruit_name, fruit_num)}\n",
    "\n",
    "print(f'На складе сейчас {sum(storage_dict.values())} единиц фруктов.')"
   ]
  },
  {
   "cell_type": "markdown",
   "id": "e7500c97",
   "metadata": {},
   "source": [
    "## Задание 2.\n",
    "Дан список с затратами на рекламу. Но в данных есть\n",
    "ошибки, некоторые затраты имеют отрицательную величину.\n",
    "Удалите такие значения из списка и посчитайте суммарные\n",
    "затраты:\n",
    "[100, 125, -90, 345, 655, -1, 0, 200]\n",
    "Используйте list comprehensions."
   ]
  },
  {
   "cell_type": "code",
   "execution_count": 1,
   "id": "2384aa74",
   "metadata": {},
   "outputs": [
    {
     "name": "stdout",
     "output_type": "stream",
     "text": [
      "Сумма по затратам на рекламу, с учетом корректировки, равна: 1425.\n"
     ]
    }
   ],
   "source": [
    "a = [100, 125, -90, 345, 655, -1, 0, 200]\n",
    "\n",
    "corr_a = [i for i in a if i >= 0]\n",
    "\n",
    "res = sum(corr_a)\n",
    "\n",
    "print(f'Сумма по затратам на рекламу, с учетом корректировки, равна: {res}.')"
   ]
  },
  {
   "cell_type": "markdown",
   "id": "55fa789d",
   "metadata": {},
   "source": [
    "## Задание 3.\n",
    "Даны два списка.\n",
    "Дата покупки:\n",
    "['2021-09-14', '2021-12-15', '2021-09-08', '2021-12-05',\n",
    "'2021-10-09', '2021-09-30', '2021-12-22', '2021-11-29',\n",
    "'2021-12-24', '2021-11-26', '2021-10-27', '2021-12-18',\n",
    "'2021-11-09', '2021-11-23', '2021-09-27', '2021-10-02',\n",
    "'2021-12-27', '2021-09-20', '2021-12-13', '2021-11-01',\n",
    "'2021-11-09', '2021-12-06', '2021-12-08', '2021-10-09',\n",
    "'2021-10-31', '2021-09-30', '2021-11-09', '2021-12-13',\n",
    "'2021-10-26', '2021-12-09'].\n",
    "Суммы покупок по датам:\n",
    "[1270, 8413, 9028, 3703, 5739, 4095, 295, 4944, 5723,\n",
    "3701, 4471, 651, 7037, 4274, 6275, 4988, 6930, 2971,\n",
    "6592, 2004, 2822, 519, 3406, 2732, 5015, 2008, 316,\n",
    "6333, 5700, 2887]."
   ]
  },
  {
   "cell_type": "markdown",
   "id": "99000fe5",
   "metadata": {},
   "source": [
    "### Задание 3.1.\n",
    "Найдите, какая выручка у компании в ноябре.\n",
    "Используйте list comprehensions."
   ]
  },
  {
   "cell_type": "code",
   "execution_count": 34,
   "id": "18445460",
   "metadata": {},
   "outputs": [
    {
     "name": "stdout",
     "output_type": "stream",
     "text": [
      "Выручка компании в ноябре равна: 25098.\n"
     ]
    }
   ],
   "source": [
    "dates = ['2021-09-14', '2021-12-15', '2021-09-08', '2021-12-05', '2021-10-09', '2021-09-30', '2021-12-22', '2021-11-29', '2021-12-24', '2021-11-26', '2021-10-27', '2021-12-18', '2021-11-09', '2021-11-23', '2021-09-27', '2021-10-02', '2021-12-27', '2021-09-20', '2021-12-13', '2021-11-01', '2021-11-09', '2021-12-06', '2021-12-08', '2021-10-09', '2021-10-31', '2021-09-30', '2021-11-09', '2021-12-13', '2021-10-26', '2021-12-09']\n",
    "\n",
    "sales = [1270, 8413, 9028, 3703, 5739, 4095, 295, 4944, 5723, 3701, 4471, 651, 7037, 4274, 6275, 4988, 6930, 2971, 6592, 2004, 2822, 519, 3406, 2732, 5015, 2008, 316, 6333, 5700, 2887]\n",
    "\n",
    "keys = list(range(len(sales)))\n",
    "\n",
    "sum_sales = 0\n",
    "\n",
    "months_list = []\n",
    "\n",
    "for date in dates:\n",
    "\n",
    "    month = date.split('-', 2)[1]\n",
    "    \n",
    "    months_list.append(month)\n",
    "\n",
    "sales_dict = {i[0]: list(i[1:]) for i in zip(keys, months_list, sales)}\n",
    "\n",
    "for entries in sales_dict.values():\n",
    "    \n",
    "    if entries[0] == '11':\n",
    "        \n",
    "        sum_sales = sum_sales + entries[1]\n",
    "\n",
    "    else:\n",
    "        pass\n",
    "        \n",
    "print(f'Суммарная выручка компании в ноябре равна: {sum_sales}.')"
   ]
  },
  {
   "cell_type": "markdown",
   "id": "9c957584",
   "metadata": {},
   "source": [
    "### Задание 3.2.\n",
    "Найдите выручку компании в зависимости от месяца.\n",
    "Для этого напишите функцию, которая на вход принимает\n",
    "список с датами и список с выручкой, а на выходе словарь,\n",
    "где ключи - это месяцы, а значения - это выручка.\n",
    "Используйте аннотирование типов."
   ]
  },
  {
   "cell_type": "code",
   "execution_count": 51,
   "id": "60e95a17",
   "metadata": {},
   "outputs": [
    {
     "name": "stdout",
     "output_type": "stream",
     "text": [
      "Сводная таблица продаж по месяцам.\n",
      "\n",
      "За январь продажи составили 0\n",
      "За февраль продажи составили 0\n",
      "За март продажи составили 0\n",
      "За апрель продажи составили 0\n",
      "За май продажи составили 0\n",
      "За июнь продажи составили 0\n",
      "За июль продажи составили 0\n",
      "За август продажи составили 0\n",
      "За сентябрь продажи составили 25647\n",
      "За октябрь продажи составили 28645\n",
      "За ноябрь продажи составили 25098\n",
      "За декабрь продажи составили 45452\n"
     ]
    }
   ],
   "source": [
    "dates = ['2021-09-14', '2021-12-15', '2021-09-08', '2021-12-05', '2021-10-09', '2021-09-30', '2021-12-22', '2021-11-29', '2021-12-24', '2021-11-26', '2021-10-27', '2021-12-18', '2021-11-09', '2021-11-23', '2021-09-27', '2021-10-02', '2021-12-27', '2021-09-20', '2021-12-13', '2021-11-01', '2021-11-09', '2021-12-06', '2021-12-08', '2021-10-09', '2021-10-31', '2021-09-30', '2021-11-09', '2021-12-13', '2021-10-26', '2021-12-09']\n",
    "\n",
    "sales = [1270, 8413, 9028, 3703, 5739, 4095, 295, 4944, 5723, 3701, 4471, 651, 7037, 4274, 6275, 4988, 6930, 2971, 6592, 2004, 2822, 519, 3406, 2732, 5015, 2008, 316, 6333, 5700, 2887]\n",
    "\n",
    "def dateformat(date: str) -> str:\n",
    "    \"\"\"\n",
    "    Функция меняет дату в строке на цифру\n",
    "    соответствующую месяцу\n",
    "    \"\"\"\n",
    "    \n",
    "    month = date.split('-', 2)[1]\n",
    "    \n",
    "    return month\n",
    "\n",
    "def report(dates: list, sales: list) -> dict:\n",
    "    \"\"\"\n",
    "    Функция на вход принимает список с датами \n",
    "    и список с выручкой, а на выходе словарь, \n",
    "    где ключи - это месяцы, а значения - это выручка\n",
    "    \"\"\"\n",
    "    \n",
    "    jan_indexes = []\n",
    "    feb_indexes = []\n",
    "    mar_indexes = []\n",
    "    apr_indexes = []\n",
    "    may_indexes = []\n",
    "    jun_indexes = []\n",
    "    jul_indexes = []\n",
    "    aug_indexes = []\n",
    "    sep_indexes = []\n",
    "    oct_indexes = []\n",
    "    nov_indexes = []\n",
    "    dec_indexes = []\n",
    "    \n",
    "    jan_sales = 0\n",
    "    feb_sales = 0\n",
    "    mar_sales = 0\n",
    "    apr_sales = 0\n",
    "    may_sales = 0\n",
    "    jun_sales = 0\n",
    "    jul_sales = 0\n",
    "    aug_sales = 0\n",
    "    sep_sales = 0\n",
    "    oct_sales = 0\n",
    "    nov_sales = 0\n",
    "    dec_sales = 0\n",
    "    \n",
    "    months_sales_list = []\n",
    "    \n",
    "    months_list = ['январь', 'февраль', 'март', 'апрель', 'май', 'июнь', 'июль', 'август', 'сентябрь', 'октябрь', 'ноябрь', 'декабрь']\n",
    "    \n",
    "    for i in dates:\n",
    "        \n",
    "        j = dateformat(i)\n",
    "        \n",
    "        months_sales_list.append(j)\n",
    "\n",
    "    for i in range(len(months_sales_list)):\n",
    "        \n",
    "        if months_sales_list[i] == '01':\n",
    "            jan_indexes.append(i)\n",
    "         \n",
    "        elif months_sales_list[i] == '02':\n",
    "            feb_indexes.append(i)\n",
    "\n",
    "        elif months_sales_list[i] == '03':\n",
    "            mar_indexes.append(i)\n",
    "         \n",
    "        elif months_sales_list[i] == '04':\n",
    "            apr_indexes.append(i)\n",
    "         \n",
    "        elif months_sales_list[i] == '05':\n",
    "            may_indexes.append(i)\n",
    "         \n",
    "        elif months_sales_list[i] == '06':\n",
    "            jun_indexes.append(i)\n",
    "         \n",
    "        elif months_sales_list[i] == '07':\n",
    "            jul_indexes.append(i)\n",
    "\n",
    "        elif months_sales_list[i] == '08':\n",
    "            aug_indexes.append(i)\n",
    "         \n",
    "        elif months_sales_list[i] == '09':\n",
    "            sep_indexes.append(i)\n",
    "         \n",
    "        elif months_sales_list[i] == '10':\n",
    "            oct_indexes.append(i)\n",
    "         \n",
    "        elif months_sales_list[i] == '11':\n",
    "            nov_indexes.append(i)\n",
    "         \n",
    "        elif months_sales_list[i] == '12':\n",
    "            dec_indexes.append(i)\n",
    "\n",
    "        else:\n",
    "            pass\n",
    "\n",
    "    for index in jan_indexes:\n",
    "        jan_sales = jan_sales + sales[index]\n",
    "\n",
    "    for index in feb_indexes:\n",
    "        feb_sales = feb_sales + sales[index]\n",
    "    \n",
    "    for index in mar_indexes:\n",
    "        mar_sales = mar_sales + sales[index]\n",
    "        \n",
    "    for index in apr_indexes:\n",
    "        apr_sales = jan_sales + sales[index]\n",
    "        \n",
    "    for index in may_indexes:\n",
    "        may_sales = may_sales + sales[index]\n",
    "        \n",
    "    for index in jun_indexes:\n",
    "        jun_sales = jun_sales + sales[index]\n",
    "\n",
    "    for index in jul_indexes:\n",
    "        jul_sales = jul_sales + sales[index]\n",
    "    \n",
    "    for index in aug_indexes:\n",
    "        aug_sales = aug_sales + sales[index]\n",
    "    \n",
    "    for index in sep_indexes:\n",
    "        sep_sales = sep_sales + sales[index]\n",
    "        \n",
    "    for index in oct_indexes:\n",
    "        oct_sales = oct_sales + sales[index]\n",
    "        \n",
    "    for index in nov_indexes:\n",
    "        nov_sales = nov_sales + sales[index]\n",
    "        \n",
    "    for index in dec_indexes:\n",
    "        dec_sales = dec_sales + sales[index]\n",
    "\n",
    "    months_sales = [jan_sales, feb_sales, mar_sales, apr_sales, may_sales, jun_sales, jul_sales, aug_sales, sep_sales, oct_sales, nov_sales, dec_sales]\n",
    "\n",
    "    res_dict = {key: value for key, value in zip(months_list, months_sales)}\n",
    "\n",
    "    return res_dict\n",
    "\n",
    "report = report(dates, sales)\n",
    "\n",
    "print('Сводная таблица продаж по месяцам:\\n')\n",
    "\n",
    "for key, value in report.items():\n",
    "    print('За', key, 'продажи составили', value)"
   ]
  }
 ],
 "metadata": {
  "kernelspec": {
   "display_name": "Python 3 (ipykernel)",
   "language": "python",
   "name": "python3"
  },
  "language_info": {
   "codemirror_mode": {
    "name": "ipython",
    "version": 3
   },
   "file_extension": ".py",
   "mimetype": "text/x-python",
   "name": "python",
   "nbconvert_exporter": "python",
   "pygments_lexer": "ipython3",
   "version": "3.9.13"
  }
 },
 "nbformat": 4,
 "nbformat_minor": 5
}
